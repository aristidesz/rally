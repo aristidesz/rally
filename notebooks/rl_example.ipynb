{
 "cells": [
  {
   "cell_type": "code",
   "execution_count": null,
   "metadata": {},
   "outputs": [],
   "source": [
    "import gymnasium as gym\n",
    "from stable_baselines3 import PPO"
   ]
  },
  {
   "cell_type": "code",
   "execution_count": null,
   "metadata": {},
   "outputs": [],
   "source": [
    "# Step 1: Create the environment\n",
    "env = gym.make(\"CartPole-v1\")\n",
    "\n",
    "# Step 2: Instantiate the RL model (Proximal Policy Optimization)\n",
    "model = PPO(\"MlpPolicy\", env, verbose=1)\n",
    "\n",
    "# Step 3: Train the model\n",
    "print(\"Training the model...\")\n",
    "model.learn(total_timesteps=10000)\n",
    "\n",
    "# Step 4: Test the trained model\n",
    "obs, _ = env.reset()\n",
    "for _ in range(1000):\n",
    "    action, _states = model.predict(obs, deterministic=True)\n",
    "    obs, reward, done, _, _ = env.step(action)\n",
    "    env.render()\n",
    "    if done:\n",
    "        obs, _ = env.reset()\n",
    "\n",
    "print(\"Training and testing complete.\")"
   ]
  }
 ],
 "metadata": {
  "kernelspec": {
   "display_name": "rally-FRxTUW3Q-py3.11",
   "language": "python",
   "name": "python3"
  },
  "language_info": {
   "codemirror_mode": {
    "name": "ipython",
    "version": 3
   },
   "file_extension": ".py",
   "mimetype": "text/x-python",
   "name": "python",
   "nbconvert_exporter": "python",
   "pygments_lexer": "ipython3",
   "version": "3.11.8"
  }
 },
 "nbformat": 4,
 "nbformat_minor": 2
}
